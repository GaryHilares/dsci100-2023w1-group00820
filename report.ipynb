{
 "cells": [
  {
   "cell_type": "markdown",
   "id": "552e2add-943b-4eb2-826b-ef4997f0d6fd",
   "metadata": {},
   "source": [
    "# Classification model for Taiwanese companies bankruptcy\n",
    "## Introduction\n",
    "\n",
    "## Methods and results"
   ]
  },
  {
   "cell_type": "code",
   "execution_count": null,
   "id": "fa786203-c0ec-4dbe-97f8-46adc84e3292",
   "metadata": {},
   "outputs": [],
   "source": []
  },
  {
   "cell_type": "markdown",
   "id": "d638dfb1-6105-405e-856d-c6631a552ab6",
   "metadata": {},
   "source": [
    "## Discussion\n",
    "## References"
   ]
  }
 ],
 "metadata": {
  "kernelspec": {
   "display_name": "R",
   "language": "R",
   "name": "ir"
  },
  "language_info": {
   "codemirror_mode": "r",
   "file_extension": ".r",
   "mimetype": "text/x-r-source",
   "name": "R",
   "pygments_lexer": "r",
   "version": "4.3.1"
  }
 },
 "nbformat": 4,
 "nbformat_minor": 5
}
